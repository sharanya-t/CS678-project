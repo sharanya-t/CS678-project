{
 "cells": [
  {
   "cell_type": "code",
   "execution_count": 1,
   "metadata": {},
   "outputs": [],
   "source": [
    "from nltk.corpus import wordnet as wn\n",
    "from PyDictionary import PyDictionary\n",
    "dictionary=PyDictionary()"
   ]
  },
  {
   "cell_type": "code",
   "execution_count": 7,
   "metadata": {},
   "outputs": [
    {
     "data": {
      "text/plain": [
       "{0: {},\n",
       " 1: {'departure': 1,\n",
       "  'going': 1,\n",
       "  'going_away': 1,\n",
       "  'leaving': 1,\n",
       "  'deviation': 1,\n",
       "  'divergence': 1,\n",
       "  'difference': 1,\n",
       "  'passing': 1,\n",
       "  'loss': 1,\n",
       "  'exit': 1,\n",
       "  'expiration': 1,\n",
       "  'release': 1},\n",
       " 2: {'initiation': 1,\n",
       "  'induction': 1,\n",
       "  'installation': 1,\n",
       "  'founding': 1,\n",
       "  'foundation': 1,\n",
       "  'institution': 1,\n",
       "  'origination': 1,\n",
       "  'creation': 1,\n",
       "  'innovation': 1,\n",
       "  'introduction': 1,\n",
       "  'instauration': 1,\n",
       "  'knowledgeability': 1,\n",
       "  'knowledgeableness': 1,\n",
       "  'trigger': 1},\n",
       " 3: {'tax_return': 1,\n",
       "  'income_tax_return': 1,\n",
       "  'return': 1,\n",
       "  'homecoming': 1,\n",
       "  'coming_back': 1,\n",
       "  'restitution': 1,\n",
       "  'restoration': 1,\n",
       "  'regaining': 1,\n",
       "  'issue': 1,\n",
       "  'take': 1,\n",
       "  'takings': 1,\n",
       "  'proceeds': 1,\n",
       "  'yield': 1,\n",
       "  'payoff': 1,\n",
       "  'recurrence': 1,\n",
       "  'rejoinder': 1,\n",
       "  'retort': 1,\n",
       "  'riposte': 1,\n",
       "  'replication': 1,\n",
       "  'comeback': 1,\n",
       "  'counter': 1,\n",
       "  'return_key': 1,\n",
       "  'paying_back': 1,\n",
       "  'getting_even': 1,\n",
       "  'reappearance': 1,\n",
       "  'render': 1,\n",
       "  'revert': 1,\n",
       "  'retrovert': 1,\n",
       "  'regress': 1,\n",
       "  'turn_back': 1,\n",
       "  'hark_back': 1,\n",
       "  'come_back': 1,\n",
       "  'recall': 1,\n",
       "  'take_back': 1,\n",
       "  'bring_back': 1,\n",
       "  'repay': 1,\n",
       "  'rejoin': 1,\n",
       "  'refund': 1,\n",
       "  'give_back': 1,\n",
       "  'deliver': 1,\n",
       "  'reelect': 1,\n",
       "  'fall': 1,\n",
       "  'pass': 1,\n",
       "  'devolve': 1,\n",
       "  'give': 1,\n",
       "  'generate': 1}}"
      ]
     },
     "execution_count": 7,
     "metadata": {},
     "output_type": "execute_result"
    }
   ],
   "source": [
    "archetype = {0: \"\", 1:\"departure\", 2:\"initiation\", 3:\"return\"}\n",
    "vals = {}\n",
    "for t in archetype:\n",
    "    syn = wn.synsets(archetype[t])\n",
    "    vals[t] = {l.name(): 1 for s in syn for l in s.lemmas()}\n",
    "vals"
   ]
  },
  {
   "cell_type": "code",
   "execution_count": 3,
   "metadata": {},
   "outputs": [
    {
     "name": "stdout",
     "output_type": "stream",
     "text": [
      "synning for departure 1\n",
      "synning for divergence 1\n",
      "synning for deviation 1\n",
      "synning for exit 1\n",
      "synning for innovation 2\n",
      "synning for creation 2\n",
      "synning for macrocosm 2\n",
      "synning for founding 2\n"
     ]
    },
    {
     "data": {
      "text/plain": [
       "{1: {'departure': 1,\n",
       "  'going': 1,\n",
       "  'going_away': 1,\n",
       "  'leaving': 1,\n",
       "  'deviation': 1,\n",
       "  'divergence': 1,\n",
       "  'difference': 1,\n",
       "  'passing': 1,\n",
       "  'loss': 1,\n",
       "  'exit': 1,\n",
       "  'expiration': 1,\n",
       "  'release': 1,\n",
       "  'divergency': 1,\n",
       "  'discrepancy': 1,\n",
       "  'disagreement': 1,\n",
       "  'variance': 1,\n",
       "  'deviance': 1,\n",
       "  'diversion': 1,\n",
       "  'digression': 1,\n",
       "  'deflection': 1,\n",
       "  'deflexion': 1,\n",
       "  'divagation': 1,\n",
       "  'issue': 1,\n",
       "  'outlet': 1,\n",
       "  'way_out': 1,\n",
       "  'go_out': 1,\n",
       "  'get_out': 1,\n",
       "  'leave': 1,\n",
       "  'die': 1,\n",
       "  'decease': 1,\n",
       "  'perish': 1,\n",
       "  'go': 1,\n",
       "  'pass_away': 1,\n",
       "  'expire': 1,\n",
       "  'pass': 1,\n",
       "  'kick_the_bucket': 1,\n",
       "  \"cash_in_one's_chips\": 1,\n",
       "  'buy_the_farm': 1,\n",
       "  'conk': 1,\n",
       "  'give-up_the_ghost': 1,\n",
       "  'drop_dead': 1,\n",
       "  'pop_off': 1,\n",
       "  'choke': 1,\n",
       "  'croak': 1,\n",
       "  'snuff_it': 1},\n",
       " 2: {'initiation': 1,\n",
       "  'induction': 1,\n",
       "  'installation': 1,\n",
       "  'founding': 1,\n",
       "  'foundation': 1,\n",
       "  'institution': 1,\n",
       "  'origination': 1,\n",
       "  'creation': 1,\n",
       "  'innovation': 1,\n",
       "  'introduction': 1,\n",
       "  'instauration': 1,\n",
       "  'knowledgeability': 1,\n",
       "  'knowledgeableness': 1,\n",
       "  'trigger': 1,\n",
       "  'invention': 1,\n",
       "  'excogitation': 1,\n",
       "  'conception': 1,\n",
       "  'design': 1,\n",
       "  'creative_activity': 1,\n",
       "  'Creation': 1,\n",
       "  'universe': 1,\n",
       "  'existence': 1,\n",
       "  'world': 1,\n",
       "  'cosmos': 1,\n",
       "  'macrocosm': 1,\n",
       "  'establish': 1,\n",
       "  'set_up': 1,\n",
       "  'found': 1,\n",
       "  'launch': 1,\n",
       "  'plant': 1,\n",
       "  'constitute': 1,\n",
       "  'institute': 1,\n",
       "  'base': 1,\n",
       "  'ground': 1},\n",
       " 3: {'tax_return': 1,\n",
       "  'income_tax_return': 1,\n",
       "  'return': 1,\n",
       "  'homecoming': 1,\n",
       "  'coming_back': 1,\n",
       "  'restitution': 1,\n",
       "  'restoration': 1,\n",
       "  'regaining': 1,\n",
       "  'issue': 1,\n",
       "  'take': 1,\n",
       "  'takings': 1,\n",
       "  'proceeds': 1,\n",
       "  'yield': 1,\n",
       "  'payoff': 1,\n",
       "  'recurrence': 1,\n",
       "  'rejoinder': 1,\n",
       "  'retort': 1,\n",
       "  'riposte': 1,\n",
       "  'replication': 1,\n",
       "  'comeback': 1,\n",
       "  'counter': 1,\n",
       "  'return_key': 1,\n",
       "  'paying_back': 1,\n",
       "  'getting_even': 1,\n",
       "  'reappearance': 1,\n",
       "  'render': 1,\n",
       "  'revert': 1,\n",
       "  'retrovert': 1,\n",
       "  'regress': 1,\n",
       "  'turn_back': 1,\n",
       "  'hark_back': 1,\n",
       "  'come_back': 1,\n",
       "  'recall': 1,\n",
       "  'take_back': 1,\n",
       "  'bring_back': 1,\n",
       "  'repay': 1,\n",
       "  'rejoin': 1,\n",
       "  'refund': 1,\n",
       "  'give_back': 1,\n",
       "  'deliver': 1,\n",
       "  'reelect': 1,\n",
       "  'fall': 1,\n",
       "  'pass': 1,\n",
       "  'devolve': 1,\n",
       "  'give': 1,\n",
       "  'generate': 1}}"
      ]
     },
     "execution_count": 3,
     "metadata": {},
     "output_type": "execute_result"
    }
   ],
   "source": [
    "import random\n",
    "for v in vals:\n",
    "    while len(vals[v]) < 30:\n",
    "        word = random.choice(list(vals[v].keys()))\n",
    "        print(\"synning for\", word, v)\n",
    "        syn = wn.synsets(word)\n",
    "        names = [l.name() for s in syn for l in s.lemmas()]\n",
    "        for name in names: vals[v][name] = 1\n",
    "vals"
   ]
  },
  {
   "cell_type": "code",
   "execution_count": 6,
   "metadata": {},
   "outputs": [
    {
     "data": {
      "text/plain": [
       "46"
      ]
     },
     "execution_count": 6,
     "metadata": {},
     "output_type": "execute_result"
    }
   ],
   "source": [
    "len(vals[3])"
   ]
  },
  {
   "cell_type": "code",
   "execution_count": 3,
   "metadata": {},
   "outputs": [
    {
     "name": "stdout",
     "output_type": "stream",
     "text": [
      "{'Noun': ['the act of departing', 'a variation that deviates from the standard or norm', 'euphemistic expressions for death']}\n",
      "{'Noun': ['a formal entry into an organization or position or office', 'the act of starting something for the first time; introducing something new', 'wisdom as evidenced by the possession of knowledge', 'an act that sets in motion some course of events']}\n",
      "{'Noun': [\"document giving the tax collector information about the taxpayer's tax liability\", 'a coming to or returning home', 'the occurrence of a change in direction back in the opposite direction', 'getting something back again', 'the act of going back to a prior location', 'the income or profit arising from such transactions as the sale of land or other property', 'happening again (especially at regular intervals', 'a quick reply to a question or remark (especially a witty or critical one', 'the key on electric typewriters or computer keyboards that causes a carriage return and a line feed', 'a reciprocal group action', 'a tennis stroke that sends the ball back to the other player', '(American football', 'the act of someone appearing again'], 'Verb': ['go or come back to place, condition, or activity where one has been before', 'give back', 'go back to a previous state', 'go back to something earlier', 'bring back to the point of departure', 'return in kind', 'make a return', 'answer back', 'be restored', 'pay back', 'pass down', 'elect again', 'be inherited by', 'return to a previous position; in mathematics', 'give or supply', 'submit (a report, etc.']}\n"
     ]
    }
   ],
   "source": [
    "for word in archetype.values():\n",
    "    print (dictionary.meaning(word))"
   ]
  },
  {
   "cell_type": "code",
   "execution_count": 12,
   "metadata": {},
   "outputs": [
    {
     "data": {
      "text/plain": [
       "'homecoming'"
      ]
     },
     "execution_count": 12,
     "metadata": {},
     "output_type": "execute_result"
    }
   ],
   "source": [
    "wn.synsets('return')[1].lemmas()[1].name()"
   ]
  },
  {
   "cell_type": "code",
   "execution_count": null,
   "metadata": {},
   "outputs": [],
   "source": []
  }
 ],
 "metadata": {
  "kernelspec": {
   "display_name": "Python 3",
   "language": "python",
   "name": "python3"
  },
  "language_info": {
   "codemirror_mode": {
    "name": "ipython",
    "version": 3
   },
   "file_extension": ".py",
   "mimetype": "text/x-python",
   "name": "python",
   "nbconvert_exporter": "python",
   "pygments_lexer": "ipython3",
   "version": "3.7.6"
  }
 },
 "nbformat": 4,
 "nbformat_minor": 4
}
