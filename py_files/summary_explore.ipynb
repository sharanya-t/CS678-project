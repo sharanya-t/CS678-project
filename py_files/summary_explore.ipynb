{
 "cells": [
  {
   "cell_type": "code",
   "execution_count": 1,
   "metadata": {},
   "outputs": [],
   "source": [
    "f = open(\"booksummaries/booksummaries.txt\", \"r\")\n",
    "lines = f.readlines()"
   ]
  },
  {
   "cell_type": "code",
   "execution_count": 2,
   "metadata": {},
   "outputs": [
    {
     "data": {
      "text/plain": [
       "'73408\\t/m/0jqbz\\tTo Kill a Mockingbird\\tHarper Lee\\t1960-07-11\\t{\"/m/02xlf\": \"Fiction\"}\\t The book opens with the Finch family\\'s ancestor, Simon Finch, a Cornish Methodist fleeing religious intolerance in England, settling in Alabama, becoming wealthy and, contrary to his religious beliefs, buying several slaves. The main story takes place during three years of the Great Depression in the fictional \"tired old town\" of Maycomb, Alabama. It focuses on six-year-old Scout Finch, who lives with her older brother Jem and their widowed father Atticus, a middle-aged lawyer. Jem and Scout befriend a boy named Dill who visits Maycomb to stay with his aunt each summer. The three children are terrified of, and fascinated by, their neighbor, the reclusive \"Boo\" Radley. The adults of Maycomb are hesitant to talk about Boo and for many years few have seen him. The children feed each other\\'s imagination with rumors about his appearance and reasons for remaining hidden, and they fantasize about how to get him out of his house. Following two summers of friendship with Dill, Scout and Jem find that someone is leaving them small gifts in a tree outside the Radley place. Several times, the mysterious Boo makes gestures of affection to the children, but, to their disappointment, never appears in person. Atticus is appointed by the court to defend Tom Robinson, a black man who has been accused of raping a young white woman, Mayella Ewell. Although many of Maycomb\\'s citizens disapprove, Atticus agrees to defend Tom. Other children taunt Jem and Scout for Atticus\\' actions, calling him a \"nigger-lover\". Scout is tempted to stand up for her father\\'s honor by fighting even though he has told her not to. For his part, Atticus faces a group of men intent on lynching Tom. This danger is averted when Scout, Jem, and Dill shame the mob into dispersing by forcing them to view the situation from Atticus\\' and Tom\\'s points of view. Because Atticus does not want them to be present at Tom Robinson\\'s trial, Scout, Jem and Dill watch in secret from the colored balcony. Atticus establishes that the accusers—Mayella and her father, Bob Ewell, the town drunk—are lying. It also becomes clear that the friendless Mayella was making sexual advances towards Tom and her father caught her and beat her. Despite significant evidence of Tom\\'s innocence, the jury convicts him. Jem\\'s faith in justice is badly shaken, as is Atticus\\', when a hopeless Tom is shot and killed while trying to escape from prison. Humiliated by the trial Bob Ewell vows revenge. He spits in Atticus\\' face on the street, tries to break into the presiding judge\\'s house and menaces Tom Robinson\\'s widow. Finally, he attacks the defenseless Jem and Scout as they walk home on a dark night from the school Halloween pageant. Jem\\'s arm is broken in the struggle, but amid the confusion, someone comes to the children\\'s rescue. The mysterious man carries Jem home, where Scout realizes that he is Boo Radley. Maycomb\\'s sheriff arrives and discovers that Bob Ewell has been killed in the struggle. The sheriff argues with Atticus about the prudence and ethics of holding Jem or Boo responsible. Atticus eventually accepts the sheriff\\'s story that Ewell simply fell on his own knife. Boo asks Scout to walk him home, and after she says goodbye to him at his front door, he disappears again. While standing on the Radley porch, Scout imagines life from Boo\\'s perspective and regrets that they never repaid him for the gifts he had given them.\\n'"
      ]
     },
     "execution_count": 2,
     "metadata": {},
     "output_type": "execute_result"
    }
   ],
   "source": [
    "lines[308]"
   ]
  },
  {
   "cell_type": "code",
   "execution_count": 3,
   "metadata": {},
   "outputs": [
    {
     "data": {
      "text/plain": [
       "'The book opens with the Finch family\\'s ancestor, Simon Finch, a Cornish Methodist fleeing religious intolerance in England, settling in Alabama, becoming wealthy and, contrary to his religious beliefs, buying several slaves. The main story takes place during three years of the Great Depression in the fictional \"tired old town\" of Maycomb, Alabama. It focuses on six-year-old Scout Finch, who lives with her older brother Jem and their widowed father Atticus, a middle-aged lawyer. Jem and Scout befriend a boy named Dill who visits Maycomb to stay with his aunt each summer. The three children are terrified of, and fascinated by, their neighbor, the reclusive \"Boo\" Radley. The adults of Maycomb are hesitant to talk about Boo and for many years few have seen him. The children feed each other\\'s imagination with rumors about his appearance and reasons for remaining hidden, and they fantasize about how to get him out of his house. Following two summers of friendship with Dill, Scout and Jem find that someone is leaving them small gifts in a tree outside the Radley place. Several times, the mysterious Boo makes gestures of affection to the children, but, to their disappointment, never appears in person. Atticus is appointed by the court to defend Tom Robinson, a black man who has been accused of raping a young white woman, Mayella Ewell. Although many of Maycomb\\'s citizens disapprove, Atticus agrees to defend Tom. Other children taunt Jem and Scout for Atticus\\' actions, calling him a \"nigger-lover\". Scout is tempted to stand up for her father\\'s honor by fighting even though he has told her not to. For his part, Atticus faces a group of men intent on lynching Tom. This danger is averted when Scout, Jem, and Dill shame the mob into dispersing by forcing them to view the situation from Atticus\\' and Tom\\'s points of view. Because Atticus does not want them to be present at Tom Robinson\\'s trial, Scout, Jem and Dill watch in secret from the colored balcony. Atticus establishes that the accusers—Mayella and her father, Bob Ewell, the town drunk—are lying. It also becomes clear that the friendless Mayella was making sexual advances towards Tom and her father caught her and beat her. Despite significant evidence of Tom\\'s innocence, the jury convicts him. Jem\\'s faith in justice is badly shaken, as is Atticus\\', when a hopeless Tom is shot and killed while trying to escape from prison. Humiliated by the trial Bob Ewell vows revenge. He spits in Atticus\\' face on the street, tries to break into the presiding judge\\'s house and menaces Tom Robinson\\'s widow. Finally, he attacks the defenseless Jem and Scout as they walk home on a dark night from the school Halloween pageant. Jem\\'s arm is broken in the struggle, but amid the confusion, someone comes to the children\\'s rescue. The mysterious man carries Jem home, where Scout realizes that he is Boo Radley. Maycomb\\'s sheriff arrives and discovers that Bob Ewell has been killed in the struggle. The sheriff argues with Atticus about the prudence and ethics of holding Jem or Boo responsible. Atticus eventually accepts the sheriff\\'s story that Ewell simply fell on his own knife. Boo asks Scout to walk him home, and after she says goodbye to him at his front door, he disappears again. While standing on the Radley porch, Scout imagines life from Boo\\'s perspective and regrets that they never repaid him for the gifts he had given them.'"
      ]
     },
     "execution_count": 3,
     "metadata": {},
     "output_type": "execute_result"
    }
   ],
   "source": [
    "summary = lines[308].split(\"}\")[-1].strip()\n",
    "summary"
   ]
  },
  {
   "cell_type": "code",
   "execution_count": 4,
   "metadata": {},
   "outputs": [
    {
     "data": {
      "text/plain": [
       "30"
      ]
     },
     "execution_count": 4,
     "metadata": {},
     "output_type": "execute_result"
    }
   ],
   "source": [
    "sentences = summary.split(\". \")\n",
    "len(sentences)"
   ]
  },
  {
   "cell_type": "code",
   "execution_count": 5,
   "metadata": {},
   "outputs": [
    {
     "name": "stdout",
     "output_type": "stream",
     "text": [
      "True\n"
     ]
    },
    {
     "data": {
      "text/plain": [
       "\"While standing on the Radley porch, Scout imagines life from Boo's perspective and regrets that they never repaid him for the gifts he had given them.\""
      ]
     },
     "execution_count": 5,
     "metadata": {},
     "output_type": "execute_result"
    }
   ],
   "source": [
    "print(sentences[len(sentences) - 1] == sentences[-1])\n",
    "sentences[-1]"
   ]
  },
  {
   "cell_type": "code",
   "execution_count": 6,
   "metadata": {},
   "outputs": [
    {
     "name": "stdout",
     "output_type": "stream",
     "text": [
      "9\n"
     ]
    }
   ],
   "source": [
    "import math\n",
    "n = len(sentences) - 2\n",
    "sub_n = math.floor(n/3)\n",
    "print(sub_n)"
   ]
  },
  {
   "cell_type": "code",
   "execution_count": 7,
   "metadata": {},
   "outputs": [
    {
     "name": "stdout",
     "output_type": "stream",
     "text": [
      "0 9\n",
      "9 18\n",
      "18 27\n"
     ]
    }
   ],
   "source": [
    "for i in range(sub_n, n, sub_n): print(i- sub_n, i)"
   ]
  },
  {
   "cell_type": "code",
   "execution_count": 8,
   "metadata": {},
   "outputs": [
    {
     "data": {
      "text/plain": [
       "[\"Despite significant evidence of Tom's innocence, the jury convicts him\",\n",
       " \"Jem's faith in justice is badly shaken, as is Atticus', when a hopeless Tom is shot and killed while trying to escape from prison\",\n",
       " 'Humiliated by the trial Bob Ewell vows revenge',\n",
       " \"He spits in Atticus' face on the street, tries to break into the presiding judge's house and menaces Tom Robinson's widow\",\n",
       " 'Finally, he attacks the defenseless Jem and Scout as they walk home on a dark night from the school Halloween pageant',\n",
       " \"Jem's arm is broken in the struggle, but amid the confusion, someone comes to the children's rescue\",\n",
       " 'The mysterious man carries Jem home, where Scout realizes that he is Boo Radley',\n",
       " \"Maycomb's sheriff arrives and discovers that Bob Ewell has been killed in the struggle\",\n",
       " 'The sheriff argues with Atticus about the prudence and ethics of holding Jem or Boo responsible']"
      ]
     },
     "execution_count": 8,
     "metadata": {},
     "output_type": "execute_result"
    }
   ],
   "source": [
    "sections = []\n",
    "for i in range(sub_n, n, sub_n): \n",
    "    sections.append(sentences[i - sub_n: i])\n",
    "#sections[-1] += sentences[sub_n * 3 - n-2:-2] #check this works for other lengths\n",
    "sections.append(sentences[sub_n * 3 - n-2:])\n",
    "sections[-2]"
   ]
  },
  {
   "cell_type": "code",
   "execution_count": 9,
   "metadata": {},
   "outputs": [
    {
     "name": "stdout",
     "output_type": "stream",
     "text": [
      "9\n",
      "9\n",
      "9\n",
      "3\n"
     ]
    }
   ],
   "source": [
    "for s in sections: print(len(s))"
   ]
  },
  {
   "cell_type": "code",
   "execution_count": 10,
   "metadata": {},
   "outputs": [
    {
     "data": {
      "text/plain": [
       "\"Atticus eventually accepts the sheriff's story that Ewell simply fell on his own knife Boo asks Scout to walk him home, and after she says goodbye to him at his front door, he disappears again While standing on the Radley porch, Scout imagines life from Boo's perspective and regrets that they never repaid him for the gifts he had given them.\""
      ]
     },
     "execution_count": 10,
     "metadata": {},
     "output_type": "execute_result"
    }
   ],
   "source": [
    "\" \".join(str(x) for x in sections[-1])"
   ]
  },
  {
   "cell_type": "code",
   "execution_count": 10,
   "metadata": {},
   "outputs": [],
   "source": [
    "#Testing tf-idf techniques\n",
    "\n",
    "from string import punctuation\n",
    "from nltk.corpus import stopwords\n",
    "from nltk import word_tokenize\n",
    "from nltk.corpus import reuters\n",
    "\n",
    "from gensim.models import TfidfModel\n",
    "from gensim.corpora import Dictionary\n",
    "\n",
    "stop_words = stopwords.words('english') + list(punctuation)\n",
    "\n",
    "def tokenize(text):\n",
    "    words = word_tokenize(text)\n",
    "    words = [w.lower() for w in words]\n",
    "    return [w for w in words if w not in stop_words and not w.isdigit()]\n",
    " \n",
    "#print(reuters.raw('training/1832'), type(reuters.raw('training/1832')))\n",
    "#documents = [tokenize(reuters.raw(file_id)) for file_id in reuters.fileids()]\n",
    "documents = [tokenize(line) for line in sentences]\n",
    "dictionary = Dictionary(documents)"
   ]
  },
  {
   "cell_type": "code",
   "execution_count": 14,
   "metadata": {},
   "outputs": [
    {
     "name": "stdout",
     "output_type": "stream",
     "text": [
      "['major', 'dies', 'two', 'young', 'pigs', 'snowball', 'napoleon', 'assume', 'command', 'turn', 'dream', 'philosophy']\n"
     ]
    }
   ],
   "source": [
    "tfidf_model = TfidfModel([dictionary.doc2bow(d) for d in documents], id2word=dictionary)\n",
    "print(tokenize(sections[0][1]))\n",
    "tfidf_values = dict(tfidf_model[dictionary.doc2bow(tokenize(sections[0][1]))])"
   ]
  },
  {
   "cell_type": "code",
   "execution_count": 15,
   "metadata": {},
   "outputs": [
    {
     "name": "stdout",
     "output_type": "stream",
     "text": [
      "{'assume': 0.3575302104206135, 'command': 0.3575302104206135, 'dies': 0.3575302104206135, 'dream': 0.3575302104206135, 'turn': 0.3575302104206135, 'philosophy': 0.2945006967882047, 'young': 0.2945006967882047, 'major': 0.2576307948745527, 'two': 0.2576307948745527, 'snowball': 0.1684416695233871, 'pigs': 0.13157176760973507, 'napoleon': 0.09470186569608302}\n"
     ]
    },
    {
     "data": {
      "text/plain": [
       "dict_keys(['assume', 'command', 'dies', 'dream', 'turn', 'philosophy', 'young', 'major', 'two', 'snowball', 'pigs', 'napoleon'])"
      ]
     },
     "execution_count": 15,
     "metadata": {},
     "output_type": "execute_result"
    }
   ],
   "source": [
    "keys = list(dictionary.token2id.keys())\n",
    "d = dict(tfidf_model[dictionary.doc2bow(tokenize(sections[0][1]))])\n",
    "d2 = {keys[k]: v for k, v in sorted(d.items(), key=lambda item: -item[1])}\n",
    "print(d2)\n",
    "d2.keys()"
   ]
  },
  {
   "cell_type": "code",
   "execution_count": 16,
   "metadata": {},
   "outputs": [
    {
     "name": "stdout",
     "output_type": "stream",
     "text": [
      "major :  0.2576307948745527\n",
      "assume :  0.3575302104206135\n",
      "command :  0.3575302104206135\n",
      "dies :  0.3575302104206135\n",
      "dream :  0.3575302104206135\n",
      "napoleon :  0.09470186569608302\n",
      "philosophy :  0.2945006967882047\n",
      "pigs :  0.13157176760973507\n",
      "snowball :  0.1684416695233871\n",
      "turn :  0.3575302104206135\n",
      "two :  0.2576307948745527\n",
      "young :  0.2945006967882047\n"
     ]
    }
   ],
   "source": [
    "keys = list(dictionary.token2id.keys())\n",
    "for val in tfidf_values:\n",
    "    print(keys[val], \": \", tfidf_values[val])"
   ]
  },
  {
   "cell_type": "code",
   "execution_count": 12,
   "metadata": {},
   "outputs": [
    {
     "data": {
      "text/plain": [
       "[(1588, 1), (1597, 1), (6921, 1), (7633, 1), (13308, 1), (48277, 1)]"
      ]
     },
     "execution_count": 12,
     "metadata": {},
     "output_type": "execute_result"
    }
   ],
   "source": [
    "dictionary.doc2bow(tokenize(sections[-1][-1]))"
   ]
  },
  {
   "cell_type": "code",
   "execution_count": 13,
   "metadata": {},
   "outputs": [
    {
     "data": {
      "text/plain": [
       "<gensim.models.tfidfmodel.TfidfModel at 0x1093f5b10>"
      ]
     },
     "execution_count": 13,
     "metadata": {},
     "output_type": "execute_result"
    }
   ],
   "source": [
    "tfidf_model"
   ]
  },
  {
   "cell_type": "code",
   "execution_count": 14,
   "metadata": {},
   "outputs": [],
   "source": [
    "import pickle\n",
    "pickle.dump(dictionary, open(\"saved_objects/tf_idf_dict.p\", \"wb\"))\n",
    "pickle.dump(tfidf_model, open(\"saved_objects/tf_idf_model.p\", \"wb\"))"
   ]
  },
  {
   "cell_type": "code",
   "execution_count": 2,
   "metadata": {},
   "outputs": [],
   "source": [
    "from gensim.models import TfidfModel\n",
    "from gensim.corpora import Dictionary\n",
    "\n",
    "import pickle\n",
    "d = pickle.load(open(\"saved_objects/tf_idf_dict.p\", \"rb\"))\n",
    "model = pickle.load(open(\"saved_objects/tf_idf_model.p\", \"rb\"))"
   ]
  },
  {
   "cell_type": "code",
   "execution_count": 8,
   "metadata": {},
   "outputs": [],
   "source": [
    "from string import punctuation\n",
    "from nltk.corpus import stopwords\n",
    "from nltk import word_tokenize\n",
    "stop_words = stopwords.words('english') + list(punctuation)\n",
    "\n",
    "def tokenize(text):\n",
    "    words = word_tokenize(text)\n",
    "    words = [w.lower() for w in words]\n",
    "    return [w for w in words if w not in stop_words and not w.isdigit()]"
   ]
  },
  {
   "cell_type": "code",
   "execution_count": 10,
   "metadata": {},
   "outputs": [
    {
     "name": "stdout",
     "output_type": "stream",
     "text": [
      "prevent :  0.15503009325903033\n",
      "purpose :  0.19179812724082534\n",
      "seven :  0.10233349362269045\n",
      "following :  0.1127857576956057\n",
      "within :  0.11967257657953506\n",
      "farm :  0.1383186215692931\n",
      "order :  0.1375536121058001\n",
      "keep :  0.13851263780433098\n",
      "together :  0.15632997341324828\n",
      "animal :  0.20305908140784792\n",
      "animals :  0.4745028116572624\n",
      "supposed :  0.24119333393389852\n",
      "original :  0.16908163866788628\n",
      "evil :  0.31078747379222127\n",
      "habits :  0.26439138055333944\n",
      "humans :  0.5480388796208525\n"
     ]
    }
   ],
   "source": [
    "s = \"This is an ironic twist to the original purpose of the Seven Commandments, which were supposed to keep order within Animal Farm by uniting the animals together against the humans, and prevent animals from following the humans' evil habits\"\n",
    "vals = dict(model[d.doc2bow(tokenize(s))])\n",
    "keys = list(d.token2id.keys())\n",
    "for val in vals:\n",
    "    print(keys[val], \": \", vals[val])"
   ]
  },
  {
   "cell_type": "code",
   "execution_count": null,
   "metadata": {},
   "outputs": [],
   "source": []
  }
 ],
 "metadata": {
  "kernelspec": {
   "display_name": "Python 3",
   "language": "python",
   "name": "python3"
  },
  "language_info": {
   "codemirror_mode": {
    "name": "ipython",
    "version": 3
   },
   "file_extension": ".py",
   "mimetype": "text/x-python",
   "name": "python",
   "nbconvert_exporter": "python",
   "pygments_lexer": "ipython3",
   "version": "3.7.6"
  }
 },
 "nbformat": 4,
 "nbformat_minor": 4
}
